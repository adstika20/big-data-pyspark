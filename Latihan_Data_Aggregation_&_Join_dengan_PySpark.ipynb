{
  "nbformat": 4,
  "nbformat_minor": 0,
  "metadata": {
    "colab": {
      "provenance": [],
      "toc_visible": true
    },
    "kernelspec": {
      "name": "python3",
      "display_name": "Python 3"
    },
    "language_info": {
      "name": "python"
    }
  },
  "cells": [
    {
      "cell_type": "code",
      "execution_count": 1,
      "metadata": {
        "id": "Mv80B5SYKSVk"
      },
      "outputs": [],
      "source": [
        "from pyspark.sql import SparkSession"
      ]
    },
    {
      "cell_type": "markdown",
      "source": [
        "## Membaca Data Menggunakan PySpark"
      ],
      "metadata": {
        "id": "RXIeb3YDLhzi"
      }
    },
    {
      "cell_type": "code",
      "source": [
        "spark = SparkSession.builder.appName('latihan1').getOrCreate()\n",
        "spark"
      ],
      "metadata": {
        "colab": {
          "base_uri": "https://localhost:8080/",
          "height": 223
        },
        "id": "AUpLoM2nLmLg",
        "outputId": "50b8d3e0-4ef9-495d-9191-178afa4d0324"
      },
      "execution_count": 2,
      "outputs": [
        {
          "output_type": "execute_result",
          "data": {
            "text/plain": [
              "<pyspark.sql.session.SparkSession at 0x78e89c70da10>"
            ],
            "text/html": [
              "\n",
              "            <div>\n",
              "                <p><b>SparkSession - in-memory</b></p>\n",
              "                \n",
              "        <div>\n",
              "            <p><b>SparkContext</b></p>\n",
              "\n",
              "            <p><a href=\"http://f91c36f6aa6f:4040\">Spark UI</a></p>\n",
              "\n",
              "            <dl>\n",
              "              <dt>Version</dt>\n",
              "                <dd><code>v3.5.1</code></dd>\n",
              "              <dt>Master</dt>\n",
              "                <dd><code>local[*]</code></dd>\n",
              "              <dt>AppName</dt>\n",
              "                <dd><code>latihan1</code></dd>\n",
              "            </dl>\n",
              "        </div>\n",
              "        \n",
              "            </div>\n",
              "        "
            ]
          },
          "metadata": {},
          "execution_count": 2
        }
      ]
    },
    {
      "cell_type": "markdown",
      "source": [
        "#### Menggunakan PySpark Session untuk membaca data"
      ],
      "metadata": {
        "id": "C0MNYbgoMiVa"
      }
    },
    {
      "cell_type": "code",
      "source": [
        "iris_df = spark.read.option(\"inferSchema\", \"true\").option(\"header\",\"true\").csv(\"iris.csv\")"
      ],
      "metadata": {
        "id": "oApBtYEBMH3z"
      },
      "execution_count": 4,
      "outputs": []
    },
    {
      "cell_type": "code",
      "source": [
        "iris_df.show(15)"
      ],
      "metadata": {
        "colab": {
          "base_uri": "https://localhost:8080/"
        },
        "id": "7bgdniXlMma5",
        "outputId": "c8b1d8ac-fe78-4014-8ee9-332497253120"
      },
      "execution_count": 5,
      "outputs": [
        {
          "output_type": "stream",
          "name": "stdout",
          "text": [
            "+------------+-----------+------------+-----------+-------+\n",
            "|sepal_length|sepal_width|petal_length|petal_width|variety|\n",
            "+------------+-----------+------------+-----------+-------+\n",
            "|         5.1|        3.5|         1.4|        0.2| Setosa|\n",
            "|         4.9|        3.0|         1.4|        0.2| Setosa|\n",
            "|         4.7|        3.2|         1.3|        0.2| Setosa|\n",
            "|         4.6|        3.1|         1.5|        0.2| Setosa|\n",
            "|         5.0|        3.6|         1.4|        0.2| Setosa|\n",
            "|         5.4|        3.9|         1.7|        0.4| Setosa|\n",
            "|         4.6|        3.4|         1.4|        0.3| Setosa|\n",
            "|         5.0|        3.4|         1.5|        0.2| Setosa|\n",
            "|         4.4|        2.9|         1.4|        0.2| Setosa|\n",
            "|         4.9|        3.1|         1.5|        0.1| Setosa|\n",
            "|         5.4|        3.7|         1.5|        0.2| Setosa|\n",
            "|         4.8|        3.4|         1.6|        0.2| Setosa|\n",
            "|         4.8|        3.0|         1.4|        0.1| Setosa|\n",
            "|         4.3|        3.0|         1.1|        0.1| Setosa|\n",
            "|         5.8|        4.0|         1.2|        0.2| Setosa|\n",
            "+------------+-----------+------------+-----------+-------+\n",
            "only showing top 15 rows\n",
            "\n"
          ]
        }
      ]
    },
    {
      "cell_type": "code",
      "source": [
        "# MENAMPILKAN TIPE DATA\n",
        "\n",
        "iris_df.printSchema()"
      ],
      "metadata": {
        "colab": {
          "base_uri": "https://localhost:8080/"
        },
        "id": "HjXmeqifM5Vw",
        "outputId": "dddda65d-c03b-419a-b135-a9e8b3da4670"
      },
      "execution_count": 6,
      "outputs": [
        {
          "output_type": "stream",
          "name": "stdout",
          "text": [
            "root\n",
            " |-- sepal_length: double (nullable = true)\n",
            " |-- sepal_width: double (nullable = true)\n",
            " |-- petal_length: double (nullable = true)\n",
            " |-- petal_width: double (nullable = true)\n",
            " |-- variety: string (nullable = true)\n",
            "\n"
          ]
        }
      ]
    },
    {
      "cell_type": "markdown",
      "source": [
        "#### Menampilkan data dr kolom spesifik"
      ],
      "metadata": {
        "id": "t8G2aS9dNG5h"
      }
    },
    {
      "cell_type": "code",
      "source": [
        "iris_df.select([\"sepal_length\",\"variety\"]).show(5)"
      ],
      "metadata": {
        "colab": {
          "base_uri": "https://localhost:8080/"
        },
        "id": "AuKh80LTNL75",
        "outputId": "862ef550-8887-4af3-97d1-3355efc8f3b9"
      },
      "execution_count": 7,
      "outputs": [
        {
          "output_type": "stream",
          "name": "stdout",
          "text": [
            "+------------+-------+\n",
            "|sepal_length|variety|\n",
            "+------------+-------+\n",
            "|         5.1| Setosa|\n",
            "|         4.9| Setosa|\n",
            "|         4.7| Setosa|\n",
            "|         4.6| Setosa|\n",
            "|         5.0| Setosa|\n",
            "+------------+-------+\n",
            "only showing top 5 rows\n",
            "\n"
          ]
        }
      ]
    },
    {
      "cell_type": "code",
      "source": [
        "# OPERASI MATEMATIS\n",
        "\n",
        "iris_df.select(iris_df[\"sepal_length\"]*10).show(5)"
      ],
      "metadata": {
        "colab": {
          "base_uri": "https://localhost:8080/"
        },
        "id": "g_SLLLBXNUPC",
        "outputId": "91c7e73b-9c5d-4452-9203-45ed3f0b72f2"
      },
      "execution_count": 8,
      "outputs": [
        {
          "output_type": "stream",
          "name": "stdout",
          "text": [
            "+-------------------+\n",
            "|(sepal_length * 10)|\n",
            "+-------------------+\n",
            "|               51.0|\n",
            "|               49.0|\n",
            "|               47.0|\n",
            "|               46.0|\n",
            "|               50.0|\n",
            "+-------------------+\n",
            "only showing top 5 rows\n",
            "\n"
          ]
        }
      ]
    },
    {
      "cell_type": "markdown",
      "source": [
        "#### Summary Statistic"
      ],
      "metadata": {
        "id": "kBg0D6YoNkWm"
      }
    },
    {
      "cell_type": "code",
      "source": [
        "iris_df.describe().show()"
      ],
      "metadata": {
        "colab": {
          "base_uri": "https://localhost:8080/"
        },
        "id": "1rxEOIxONnLr",
        "outputId": "554080c7-880c-46ad-d1c8-54a3dfd19a8c"
      },
      "execution_count": 9,
      "outputs": [
        {
          "output_type": "stream",
          "name": "stdout",
          "text": [
            "+-------+------------------+-------------------+------------------+------------------+---------+\n",
            "|summary|      sepal_length|        sepal_width|      petal_length|       petal_width|  variety|\n",
            "+-------+------------------+-------------------+------------------+------------------+---------+\n",
            "|  count|               150|                150|               150|               150|      150|\n",
            "|   mean| 5.843333333333335|  3.057333333333334|3.7580000000000027| 1.199333333333334|     NULL|\n",
            "| stddev|0.8280661279778637|0.43586628493669793|1.7652982332594662|0.7622376689603467|     NULL|\n",
            "|    min|               4.3|                2.0|               1.0|               0.1|   Setosa|\n",
            "|    max|               7.9|                4.4|               6.9|               2.5|Virginica|\n",
            "+-------+------------------+-------------------+------------------+------------------+---------+\n",
            "\n"
          ]
        }
      ]
    },
    {
      "cell_type": "code",
      "source": [
        "iris_df.summary().show()"
      ],
      "metadata": {
        "colab": {
          "base_uri": "https://localhost:8080/"
        },
        "id": "PErH8ckhNtLr",
        "outputId": "ef112a24-885a-454c-eec0-0b29356d1098"
      },
      "execution_count": 10,
      "outputs": [
        {
          "output_type": "stream",
          "name": "stdout",
          "text": [
            "+-------+------------------+-------------------+------------------+------------------+---------+\n",
            "|summary|      sepal_length|        sepal_width|      petal_length|       petal_width|  variety|\n",
            "+-------+------------------+-------------------+------------------+------------------+---------+\n",
            "|  count|               150|                150|               150|               150|      150|\n",
            "|   mean| 5.843333333333335|  3.057333333333334|3.7580000000000027| 1.199333333333334|     NULL|\n",
            "| stddev|0.8280661279778637|0.43586628493669793|1.7652982332594662|0.7622376689603467|     NULL|\n",
            "|    min|               4.3|                2.0|               1.0|               0.1|   Setosa|\n",
            "|    25%|               5.1|                2.8|               1.6|               0.3|     NULL|\n",
            "|    50%|               5.8|                3.0|               4.3|               1.3|     NULL|\n",
            "|    75%|               6.4|                3.3|               5.1|               1.8|     NULL|\n",
            "|    max|               7.9|                4.4|               6.9|               2.5|Virginica|\n",
            "+-------+------------------+-------------------+------------------+------------------+---------+\n",
            "\n"
          ]
        }
      ]
    },
    {
      "cell_type": "markdown",
      "source": [
        "#### Mengurutkan data berdasarkan nilai dr kolom tertentu"
      ],
      "metadata": {
        "id": "XBmTUv0SN1d2"
      }
    },
    {
      "cell_type": "code",
      "source": [
        "iris_df.sort(\"sepal_width\", ascending=False).show(5)"
      ],
      "metadata": {
        "colab": {
          "base_uri": "https://localhost:8080/"
        },
        "id": "Rn1Sz9V9NyLV",
        "outputId": "c23b8568-2a2e-4662-a458-c6cf0a9bf9b3"
      },
      "execution_count": 12,
      "outputs": [
        {
          "output_type": "stream",
          "name": "stdout",
          "text": [
            "+------------+-----------+------------+-----------+-------+\n",
            "|sepal_length|sepal_width|petal_length|petal_width|variety|\n",
            "+------------+-----------+------------+-----------+-------+\n",
            "|         5.7|        4.4|         1.5|        0.4| Setosa|\n",
            "|         5.5|        4.2|         1.4|        0.2| Setosa|\n",
            "|         5.2|        4.1|         1.5|        0.1| Setosa|\n",
            "|         5.8|        4.0|         1.2|        0.2| Setosa|\n",
            "|         5.4|        3.9|         1.7|        0.4| Setosa|\n",
            "+------------+-----------+------------+-----------+-------+\n",
            "only showing top 5 rows\n",
            "\n"
          ]
        }
      ]
    },
    {
      "cell_type": "markdown",
      "source": [
        "## Data Aggregation & Join dengan PySpark"
      ],
      "metadata": {
        "id": "hBWU49qIOQ1N"
      }
    },
    {
      "cell_type": "markdown",
      "source": [
        "#### Count : hitung jml baris"
      ],
      "metadata": {
        "id": "gkWnn9MCOqJR"
      }
    },
    {
      "cell_type": "code",
      "source": [
        "from pyspark.sql.functions import count\n",
        "iris_df.select (count(\"sepal_length\")).show()"
      ],
      "metadata": {
        "colab": {
          "base_uri": "https://localhost:8080/"
        },
        "id": "kteBYWnyODTp",
        "outputId": "6550d795-5668-4965-d203-a898fa24a4fa"
      },
      "execution_count": 13,
      "outputs": [
        {
          "output_type": "stream",
          "name": "stdout",
          "text": [
            "+-------------------+\n",
            "|count(sepal_length)|\n",
            "+-------------------+\n",
            "|                150|\n",
            "+-------------------+\n",
            "\n"
          ]
        }
      ]
    },
    {
      "cell_type": "markdown",
      "source": [
        "#### countDistinct()"
      ],
      "metadata": {
        "id": "F6YEm_lTPCQX"
      }
    },
    {
      "cell_type": "markdown",
      "source": [
        "Hal yang membedakannya adalah function ini hanya menghitung jumlah baris dengan nilai yang unik."
      ],
      "metadata": {
        "id": "LFs_K0HsPFmz"
      }
    },
    {
      "cell_type": "markdown",
      "source": [
        "Sebagai contoh, kolom “variety” memuat nama kategori dari spesies tanaman iris yaitu “Virginica”, “Setosa”, dan “Versicolor” sehingga kolom ini hanya memiliki tiga nilai unik."
      ],
      "metadata": {
        "id": "PbeE5xZqPNyG"
      }
    },
    {
      "cell_type": "code",
      "source": [
        "from pyspark.sql.functions import countDistinct\n",
        "iris_df.select(countDistinct(\"variety\")).show()"
      ],
      "metadata": {
        "colab": {
          "base_uri": "https://localhost:8080/"
        },
        "id": "y0uNqUZwO9S1",
        "outputId": "459b92cc-8c05-4de9-b4f4-71a4cfcbe1bd"
      },
      "execution_count": 14,
      "outputs": [
        {
          "output_type": "stream",
          "name": "stdout",
          "text": [
            "+-----------------------+\n",
            "|count(DISTINCT variety)|\n",
            "+-----------------------+\n",
            "|                      3|\n",
            "+-----------------------+\n",
            "\n"
          ]
        }
      ]
    },
    {
      "cell_type": "code",
      "source": [],
      "metadata": {
        "id": "ZPPi1OHbPZDb"
      },
      "execution_count": null,
      "outputs": []
    },
    {
      "cell_type": "markdown",
      "source": [
        "#### min() dan max()"
      ],
      "metadata": {
        "id": "1Chrh9HlPY53"
      }
    },
    {
      "cell_type": "code",
      "source": [
        "from pyspark.sql.functions import min, max\n",
        "iris_df.select(min(\"sepal_length\"), max(\"sepal_length\")).show()"
      ],
      "metadata": {
        "colab": {
          "base_uri": "https://localhost:8080/"
        },
        "id": "H-5Gzw0uPcfc",
        "outputId": "3b88b17c-da18-4079-ab8a-501a9b0115fd"
      },
      "execution_count": 15,
      "outputs": [
        {
          "output_type": "stream",
          "name": "stdout",
          "text": [
            "+-----------------+-----------------+\n",
            "|min(sepal_length)|max(sepal_length)|\n",
            "+-----------------+-----------------+\n",
            "|              4.3|              7.9|\n",
            "+-----------------+-----------------+\n",
            "\n"
          ]
        }
      ]
    },
    {
      "cell_type": "markdown",
      "source": [
        "#### sum()"
      ],
      "metadata": {
        "id": "nQ-1E2M7PrXV"
      }
    },
    {
      "cell_type": "code",
      "source": [
        "from pyspark.sql.functions import sum\n",
        "iris_df.select(sum(\"sepal_length\")).show()"
      ],
      "metadata": {
        "colab": {
          "base_uri": "https://localhost:8080/"
        },
        "id": "OUMLJkgfPqSO",
        "outputId": "e51899b3-c5f5-457b-9a38-5907b68e4026"
      },
      "execution_count": 16,
      "outputs": [
        {
          "output_type": "stream",
          "name": "stdout",
          "text": [
            "+-----------------+\n",
            "|sum(sepal_length)|\n",
            "+-----------------+\n",
            "|876.5000000000002|\n",
            "+-----------------+\n",
            "\n"
          ]
        }
      ]
    },
    {
      "cell_type": "markdown",
      "source": [
        "#### avg()"
      ],
      "metadata": {
        "id": "ElKFoYgWP4bV"
      }
    },
    {
      "cell_type": "code",
      "source": [
        "from pyspark.sql.functions import avg\n",
        "iris_df.select(avg(\"sepal_length\")).show()"
      ],
      "metadata": {
        "colab": {
          "base_uri": "https://localhost:8080/"
        },
        "id": "Aq8p8pDuP5ss",
        "outputId": "7a1cdb9e-7502-4d55-966f-70cc90e8c381"
      },
      "execution_count": 18,
      "outputs": [
        {
          "output_type": "stream",
          "name": "stdout",
          "text": [
            "+-----------------+\n",
            "|avg(sepal_length)|\n",
            "+-----------------+\n",
            "|5.843333333333335|\n",
            "+-----------------+\n",
            "\n"
          ]
        }
      ]
    },
    {
      "cell_type": "markdown",
      "source": [
        "#### median"
      ],
      "metadata": {
        "id": "8NMFlHU5QHW3"
      }
    },
    {
      "cell_type": "code",
      "source": [
        "from pyspark.sql.functions import median\n",
        "iris_df.select(median(\"sepal_length\")).show()"
      ],
      "metadata": {
        "colab": {
          "base_uri": "https://localhost:8080/"
        },
        "id": "SUeFw7REQI9r",
        "outputId": "1ee7fc7d-56c8-40a9-c885-68581230c22e"
      },
      "execution_count": 19,
      "outputs": [
        {
          "output_type": "stream",
          "name": "stdout",
          "text": [
            "+--------------------+\n",
            "|median(sepal_length)|\n",
            "+--------------------+\n",
            "|                 5.8|\n",
            "+--------------------+\n",
            "\n"
          ]
        }
      ]
    },
    {
      "cell_type": "markdown",
      "source": [
        "#### groupBy()"
      ],
      "metadata": {
        "id": "2rg_mU5HQb9T"
      }
    },
    {
      "cell_type": "markdown",
      "source": [
        "mengelompokkan berdasarkan kolom kategorikal tertentu dan menghitung parameter statistik untuk kolom tersebut."
      ],
      "metadata": {
        "id": "KYInwdcjSwRj"
      }
    },
    {
      "cell_type": "code",
      "source": [
        "iris_df.groupBy(\"variety\").avg(\"sepal_length\").show()"
      ],
      "metadata": {
        "colab": {
          "base_uri": "https://localhost:8080/"
        },
        "id": "ioaSpKteQSb-",
        "outputId": "a4b5495b-f617-41c2-bbf9-d4a70e0d70f6"
      },
      "execution_count": 20,
      "outputs": [
        {
          "output_type": "stream",
          "name": "stdout",
          "text": [
            "+----------+-----------------+\n",
            "|   variety|avg(sepal_length)|\n",
            "+----------+-----------------+\n",
            "| Virginica|6.587999999999998|\n",
            "|    Setosa|5.005999999999999|\n",
            "|Versicolor|            5.936|\n",
            "+----------+-----------------+\n",
            "\n"
          ]
        }
      ]
    },
    {
      "cell_type": "markdown",
      "source": [
        "Pada contoh kode di atas, kita mengelompokkan data berdasarkan kolom \"variety\" sehingga terbentuk tiga kelompok data yaitu “Virginica”, “Setosa”, dan “Versicolor”. Kemudian kita menghitung nilai rata-rata “petal_width” untuk setiap kategori tersebut."
      ],
      "metadata": {
        "id": "xsgy__LvTAm0"
      }
    },
    {
      "cell_type": "markdown",
      "source": [
        " menampilkan lebih dari satu parameter statistik, Anda dapat menggunakan method agg()"
      ],
      "metadata": {
        "id": "Vn4kN_pWTGkG"
      }
    },
    {
      "cell_type": "code",
      "source": [
        "iris_df.groupBy(\"variety\").agg(\n",
        "    avg(\"sepal_length\").alias(\"avg_sepal_length\"),\n",
        "    avg(\"sepal_width\").alias(\"avg_sepal_width\"),\n",
        "    avg(\"petal_width\").alias(\"avg_petal_width\"),\n",
        "    avg(\"petal_length\").alias(\"avg_petal_length\")\n",
        ").show()"
      ],
      "metadata": {
        "colab": {
          "base_uri": "https://localhost:8080/"
        },
        "id": "gbqylczITAdj",
        "outputId": "cc0ea40d-64bf-4917-ba8c-e17bf0f6658e"
      },
      "execution_count": 22,
      "outputs": [
        {
          "output_type": "stream",
          "name": "stdout",
          "text": [
            "+----------+-----------------+------------------+------------------+------------------+\n",
            "|   variety| avg_sepal_length|   avg_sepal_width|   avg_petal_width|  avg_petal_length|\n",
            "+----------+-----------------+------------------+------------------+------------------+\n",
            "| Virginica|6.587999999999998|2.9739999999999998|             2.026|             5.552|\n",
            "|    Setosa|5.005999999999999| 3.428000000000001|0.2459999999999999|1.4620000000000002|\n",
            "|Versicolor|            5.936|2.7700000000000005|1.3259999999999998|              4.26|\n",
            "+----------+-----------------+------------------+------------------+------------------+\n",
            "\n"
          ]
        }
      ]
    },
    {
      "cell_type": "markdown",
      "source": [
        "### JOIN"
      ],
      "metadata": {
        "id": "HvdFTvgGTq7H"
      }
    },
    {
      "cell_type": "code",
      "source": [
        "customers_df = spark.read.format('csv')\\\n",
        ".option(\"inferSchema\", \"true\")\\\n",
        ".option(\"header\",\"true\")\\\n",
        ".load(\"customers.csv\")\n",
        "\n",
        "orders_df = spark.read.format('csv')\\\n",
        ".option(\"inferSchema\",\"true\")\\\n",
        ".option(\"header\",\"true\")\\\n",
        ".load(\"orders.csv\")"
      ],
      "metadata": {
        "id": "6af8V4SIS9Qb"
      },
      "execution_count": 23,
      "outputs": []
    },
    {
      "cell_type": "code",
      "source": [
        "# DEFINISIKAN JOIN EXPRESSION\n",
        "\n",
        "join_expression = customers_df[\"customer_id\"] == orders_df['customer_id']"
      ],
      "metadata": {
        "id": "_ZsKKxoPWFyC"
      },
      "execution_count": 24,
      "outputs": []
    },
    {
      "cell_type": "markdown",
      "source": [
        "Kode di atas untuk memberitahu pyspark kolom yg digunakan sbg primary key dan foreign key"
      ],
      "metadata": {
        "id": "-kNOAe9PWFUm"
      }
    },
    {
      "cell_type": "markdown",
      "source": [
        "**INNER JOIN**"
      ],
      "metadata": {
        "id": "Zkr0ou5VXqVV"
      }
    },
    {
      "cell_type": "markdown",
      "source": [
        "proses join yang hanya mengambil nilai yang bersesuaian di kedua tabel."
      ],
      "metadata": {
        "id": "GN8eOlbjXr7L"
      }
    },
    {
      "cell_type": "code",
      "source": [
        "join_type = \"inner\"\n",
        "orders_df.join(customers_df, join_expression, join_type).show(5)"
      ],
      "metadata": {
        "colab": {
          "base_uri": "https://localhost:8080/"
        },
        "id": "mGQ8hrdNWbPs",
        "outputId": "7bd3d533-b7a1-461e-a6e2-625d3030d4f9"
      },
      "execution_count": 25,
      "outputs": [
        {
          "output_type": "stream",
          "name": "stdout",
          "text": [
            "+--------+-----------+-------+-------------------+-------------+-----------+-------------+-----------------+---+--------------------+--------+-------------+------------------+---------+\n",
            "|order_id|customer_id|payment|         order_date|delivery_date|customer_id|customer_name|           gender|age|        home_address|zip_code|         city|             state|  country|\n",
            "+--------+-----------+-------+-------------------+-------------+-----------+-------------+-----------------+---+--------------------+--------+-------------+------------------+---------+\n",
            "|     729|          1|  35593|2021-02-18 00:00:00|   2021-03-01|          1|      fulan 1|           Female| 30|8606 Victoria Ter...|    5464|Johnstonhaven|Northern Territory|Australia|\n",
            "|     670|          1|  10246|2021-03-06 00:00:00|   2021-04-01|          1|      fulan 1|           Female| 30|8606 Victoria Ter...|    5464|Johnstonhaven|Northern Territory|Australia|\n",
            "|     455|          1|  24550|2021-04-04 00:00:00|   2021-04-06|          1|      fulan 1|           Female| 30|8606 Victoria Ter...|    5464|Johnstonhaven|Northern Territory|Australia|\n",
            "|     465|          7|  48935|2021-05-21 00:00:00|   2021-05-23|          7|      fulan 7|Prefer not to say| 76|92 Hills Station ...|     793|    Masonfurt|        Queensland|Australia|\n",
            "|     595|         10|  45626|2021-03-09 00:00:00|   2021-03-29|         10|     fulan 10|Prefer not to say| 70|615 Hayley KnollS...|    2118|    Joelburgh| Western Australia|Australia|\n",
            "+--------+-----------+-------+-------------------+-------------+-----------+-------------+-----------------+---+--------------------+--------+-------------+------------------+---------+\n",
            "only showing top 5 rows\n",
            "\n"
          ]
        }
      ]
    },
    {
      "cell_type": "markdown",
      "source": [
        "**OUTER JOINS**"
      ],
      "metadata": {
        "id": "XM1wfhEPWreE"
      }
    },
    {
      "cell_type": "markdown",
      "source": [
        "proses join yang akan mengambil semua nilai dari kedua tabel."
      ],
      "metadata": {
        "id": "sVH_HR3EXvFM"
      }
    },
    {
      "cell_type": "code",
      "source": [
        "join_type = \"outer\"\n",
        "orders_df.join(customers_df, join_expression, join_type).show(5)"
      ],
      "metadata": {
        "colab": {
          "base_uri": "https://localhost:8080/"
        },
        "id": "ZL0N34F1Wt0l",
        "outputId": "cb2e57b4-92e2-453e-d704-314c550cc06d"
      },
      "execution_count": 26,
      "outputs": [
        {
          "output_type": "stream",
          "name": "stdout",
          "text": [
            "+--------+-----------+-------+-------------------+-------------+-----------+-------------+-----------------+---+--------------------+--------+---------------+--------------------+---------+\n",
            "|order_id|customer_id|payment|         order_date|delivery_date|customer_id|customer_name|           gender|age|        home_address|zip_code|           city|               state|  country|\n",
            "+--------+-----------+-------+-------------------+-------------+-----------+-------------+-----------------+---+--------------------+--------+---------------+--------------------+---------+\n",
            "|     455|          1|  24550|2021-04-04 00:00:00|   2021-04-06|          1|      fulan 1|           Female| 30|8606 Victoria Ter...|    5464|  Johnstonhaven|  Northern Territory|Australia|\n",
            "|     670|          1|  10246|2021-03-06 00:00:00|   2021-04-01|          1|      fulan 1|           Female| 30|8606 Victoria Ter...|    5464|  Johnstonhaven|  Northern Territory|Australia|\n",
            "|     729|          1|  35593|2021-02-18 00:00:00|   2021-03-01|          1|      fulan 1|           Female| 30|8606 Victoria Ter...|    5464|  Johnstonhaven|  Northern Territory|Australia|\n",
            "|    NULL|       NULL|   NULL|               NULL|         NULL|          2|      fulan 2|Prefer not to say| 69|8327 Kirlin Summi...|    8223|New Zacharyfort|     South Australia|Australia|\n",
            "|    NULL|       NULL|   NULL|               NULL|         NULL|          3|      fulan 3|Prefer not to say| 59|269 Gemma SummitS...|    5661|       Aliburgh|Australian Capita...|Australia|\n",
            "+--------+-----------+-------+-------------------+-------------+-----------+-------------+-----------------+---+--------------------+--------+---------------+--------------------+---------+\n",
            "only showing top 5 rows\n",
            "\n"
          ]
        }
      ]
    },
    {
      "cell_type": "markdown",
      "source": [
        "**LEFT OUTER JOINS**"
      ],
      "metadata": {
        "id": "vM_FJu4jW9_V"
      }
    },
    {
      "cell_type": "markdown",
      "source": [
        " proses join yang akan mengambil semua nilai dari tabel kiri beserta nilai yang bersesuaian dari tabel kanan."
      ],
      "metadata": {
        "id": "2sYfKv67XyQB"
      }
    },
    {
      "cell_type": "code",
      "source": [
        "join_type = \"left_outer\"\n",
        "orders_df.join(customers_df, join_expression, join_type).show(5)"
      ],
      "metadata": {
        "colab": {
          "base_uri": "https://localhost:8080/"
        },
        "id": "wOFNYEuIW4fO",
        "outputId": "e9e8ed93-c744-4c15-9ac4-5cd4fc6dc42f"
      },
      "execution_count": 27,
      "outputs": [
        {
          "output_type": "stream",
          "name": "stdout",
          "text": [
            "+--------+-----------+-------+-------------------+-------------+-----------+-------------+-----------------+---+--------------------+--------+------------------+-----------------+---------+\n",
            "|order_id|customer_id|payment|         order_date|delivery_date|customer_id|customer_name|           gender|age|        home_address|zip_code|              city|            state|  country|\n",
            "+--------+-----------+-------+-------------------+-------------+-----------+-------------+-----------------+---+--------------------+--------+------------------+-----------------+---------+\n",
            "|       1|         64|  30811|2021-08-30 00:00:00|   2021-09-24|         64|     fulan 64|Prefer not to say| 75|4927 Alice Meadow...|    7787|    Sanfordborough|  South Australia|Australia|\n",
            "|       2|        473|  50490|2021-02-03 00:00:00|   2021-02-13|        473|    fulan 473|             Male| 61|531 Schmitt Boule...|    1744|           Annaton|  South Australia|Australia|\n",
            "|       3|        774|  46763|2021-10-08 00:00:00|   2021-11-03|        774|    fulan 774|Prefer not to say| 34|2096 Wilson MewsA...|    8590|West Jonathanshire|         Tasmania|Australia|\n",
            "|       4|        433|  39782|2021-05-06 00:00:00|   2021-05-19|        433|    fulan 433|Prefer not to say| 46|5777 Mayer PassAp...|    9728|  West Michaelport|         Tasmania|Australia|\n",
            "|       5|        441|  14719|2021-03-23 00:00:00|   2021-03-24|        441|    fulan 441|Prefer not to say| 53|33 Richards Junct...|    7650|   South Rileyview|Western Australia|Australia|\n",
            "+--------+-----------+-------+-------------------+-------------+-----------+-------------+-----------------+---+--------------------+--------+------------------+-----------------+---------+\n",
            "only showing top 5 rows\n",
            "\n"
          ]
        }
      ]
    },
    {
      "cell_type": "markdown",
      "source": [
        "**RIGHT OUTER JOINS**"
      ],
      "metadata": {
        "id": "31q8YqrWXLQo"
      }
    },
    {
      "cell_type": "markdown",
      "source": [
        "proses join yang akan mengambil semua nilai dari tabel kanan beserta nilai yang bersesuaian dari tabel kiri."
      ],
      "metadata": {
        "id": "fG6kDjyDX1t1"
      }
    },
    {
      "cell_type": "code",
      "source": [
        "join_expression = customers_df[\"customer_id\"] == orders_df['customer_id']\n",
        "join_type = \"right_outer\"\n",
        "orders_df.join(customers_df, join_expression, join_type).show(5)"
      ],
      "metadata": {
        "colab": {
          "base_uri": "https://localhost:8080/"
        },
        "id": "8TW7XyTcXPGZ",
        "outputId": "3ad752c9-9ee4-4902-a271-9818a0217bed"
      },
      "execution_count": 28,
      "outputs": [
        {
          "output_type": "stream",
          "name": "stdout",
          "text": [
            "+--------+-----------+-------+-------------------+-------------+-----------+-------------+-----------------+---+--------------------+--------+---------------+--------------------+---------+\n",
            "|order_id|customer_id|payment|         order_date|delivery_date|customer_id|customer_name|           gender|age|        home_address|zip_code|           city|               state|  country|\n",
            "+--------+-----------+-------+-------------------+-------------+-----------+-------------+-----------------+---+--------------------+--------+---------------+--------------------+---------+\n",
            "|     729|          1|  35593|2021-02-18 00:00:00|   2021-03-01|          1|      fulan 1|           Female| 30|8606 Victoria Ter...|    5464|  Johnstonhaven|  Northern Territory|Australia|\n",
            "|     670|          1|  10246|2021-03-06 00:00:00|   2021-04-01|          1|      fulan 1|           Female| 30|8606 Victoria Ter...|    5464|  Johnstonhaven|  Northern Territory|Australia|\n",
            "|     455|          1|  24550|2021-04-04 00:00:00|   2021-04-06|          1|      fulan 1|           Female| 30|8606 Victoria Ter...|    5464|  Johnstonhaven|  Northern Territory|Australia|\n",
            "|    NULL|       NULL|   NULL|               NULL|         NULL|          2|      fulan 2|Prefer not to say| 69|8327 Kirlin Summi...|    8223|New Zacharyfort|     South Australia|Australia|\n",
            "|    NULL|       NULL|   NULL|               NULL|         NULL|          3|      fulan 3|Prefer not to say| 59|269 Gemma SummitS...|    5661|       Aliburgh|Australian Capita...|Australia|\n",
            "+--------+-----------+-------+-------------------+-------------+-----------+-------------+-----------------+---+--------------------+--------+---------------+--------------------+---------+\n",
            "only showing top 5 rows\n",
            "\n"
          ]
        }
      ]
    },
    {
      "cell_type": "markdown",
      "source": [
        "**LEFT SEMI JOINS**"
      ],
      "metadata": {
        "id": "UvfqGRAfXSt8"
      }
    },
    {
      "cell_type": "markdown",
      "source": [
        "proses join yang akan mengambil seluruh nilai dari tabel kiri beserta nilai yang bersesuaian dan mengabaikan semua kolom dari tabel kanan."
      ],
      "metadata": {
        "id": "M55wgPdPX5cj"
      }
    },
    {
      "cell_type": "code",
      "source": [
        "join_type = \"left_semi\"\n",
        "orders_df.join(customers_df, join_expression, join_type).show(5)"
      ],
      "metadata": {
        "colab": {
          "base_uri": "https://localhost:8080/"
        },
        "id": "Ic4NVoEPXU7M",
        "outputId": "5427e438-26f1-4768-aefb-2a6fd1c33c18"
      },
      "execution_count": 29,
      "outputs": [
        {
          "output_type": "stream",
          "name": "stdout",
          "text": [
            "+--------+-----------+-------+-------------------+-------------+\n",
            "|order_id|customer_id|payment|         order_date|delivery_date|\n",
            "+--------+-----------+-------+-------------------+-------------+\n",
            "|       1|         64|  30811|2021-08-30 00:00:00|   2021-09-24|\n",
            "|       2|        473|  50490|2021-02-03 00:00:00|   2021-02-13|\n",
            "|       3|        774|  46763|2021-10-08 00:00:00|   2021-11-03|\n",
            "|       4|        433|  39782|2021-05-06 00:00:00|   2021-05-19|\n",
            "|       5|        441|  14719|2021-03-23 00:00:00|   2021-03-24|\n",
            "+--------+-----------+-------+-------------------+-------------+\n",
            "only showing top 5 rows\n",
            "\n"
          ]
        }
      ]
    },
    {
      "cell_type": "markdown",
      "source": [
        "**LEFT ANTI JOINS**"
      ],
      "metadata": {
        "id": "np2fk1TyXYBB"
      }
    },
    {
      "cell_type": "markdown",
      "source": [
        "proses join yang hanya akan mengambil nilai dari tabel kiri yang tidak bersesuaian dengan tabel kanan."
      ],
      "metadata": {
        "id": "J9xzPGGbX6RY"
      }
    },
    {
      "cell_type": "code",
      "source": [
        "join_type = \"left_anti\"\n",
        "orders_df.join(customers_df, join_expression, join_type).show(5)"
      ],
      "metadata": {
        "colab": {
          "base_uri": "https://localhost:8080/"
        },
        "id": "zreYoRhLXaAS",
        "outputId": "179e04e1-e556-4211-b50e-11a30a903aa0"
      },
      "execution_count": 30,
      "outputs": [
        {
          "output_type": "stream",
          "name": "stdout",
          "text": [
            "+--------+-----------+-------+----------+-------------+\n",
            "|order_id|customer_id|payment|order_date|delivery_date|\n",
            "+--------+-----------+-------+----------+-------------+\n",
            "+--------+-----------+-------+----------+-------------+\n",
            "\n"
          ]
        }
      ]
    },
    {
      "cell_type": "code",
      "source": [
        "join_type = \"left_anti\"\n",
        "customers_df.join(orders_df, join_expression, join_type).show(5)"
      ],
      "metadata": {
        "colab": {
          "base_uri": "https://localhost:8080/"
        },
        "id": "uSVZaltJXfgo",
        "outputId": "d6814382-ecd1-48d8-e578-7fd9304d8a60"
      },
      "execution_count": 31,
      "outputs": [
        {
          "output_type": "stream",
          "name": "stdout",
          "text": [
            "+-----------+-------------+-----------------+---+--------------------+--------+-----------------+--------------------+---------+\n",
            "|customer_id|customer_name|           gender|age|        home_address|zip_code|             city|               state|  country|\n",
            "+-----------+-------------+-----------------+---+--------------------+--------+-----------------+--------------------+---------+\n",
            "|          2|      fulan 2|Prefer not to say| 69|8327 Kirlin Summi...|    8223|  New Zacharyfort|     South Australia|Australia|\n",
            "|          3|      fulan 3|Prefer not to say| 59|269 Gemma SummitS...|    5661|         Aliburgh|Australian Capita...|Australia|\n",
            "|          4|      fulan 4|Prefer not to say| 67|743 Bailey GroveS...|    1729|South Justinhaven|          Queensland|Australia|\n",
            "|          5|      fulan 5|Prefer not to say| 30|48 Hyatt ManorSui...|    4032|   Griffithsshire|          Queensland|Australia|\n",
            "|          6|      fulan 6|Prefer not to say| 40|7118 Mccullough S...|    9996|       Blakehaven|     New South Wales|Australia|\n",
            "+-----------+-------------+-----------------+---+--------------------+--------+-----------------+--------------------+---------+\n",
            "only showing top 5 rows\n",
            "\n"
          ]
        }
      ]
    }
  ]
}