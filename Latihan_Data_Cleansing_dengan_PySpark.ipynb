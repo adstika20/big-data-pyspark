{
  "nbformat": 4,
  "nbformat_minor": 0,
  "metadata": {
    "colab": {
      "provenance": [],
      "toc_visible": true
    },
    "kernelspec": {
      "name": "python3",
      "display_name": "Python 3"
    },
    "language_info": {
      "name": "python"
    }
  },
  "cells": [
    {
      "cell_type": "code",
      "execution_count": null,
      "metadata": {
        "id": "mRnHnWHI6Wg_"
      },
      "outputs": [],
      "source": []
    },
    {
      "cell_type": "markdown",
      "source": [
        "## Data Cleansign"
      ],
      "metadata": {
        "id": "IQAbKipmXj_Q"
      }
    },
    {
      "cell_type": "code",
      "source": [
        "from pyspark.sql import SparkSession\n",
        "\n",
        "spark = SparkSession.builder.appName('learn_data_cleansing').getOrCreate()"
      ],
      "metadata": {
        "id": "n_1FuuftXmSc"
      },
      "execution_count": null,
      "outputs": []
    },
    {
      "cell_type": "code",
      "source": [
        "customers_df = spark.read.format('csv')\\\n",
        ".option(\"infraSchema\", \"true\")\\\n",
        ".option(\"header\",\"true\")\\\n",
        ".load(\"customers.csv\")\n",
        "\n",
        "customers_df.createOrReplaceTempView(\"customers_table\")"
      ],
      "metadata": {
        "id": "6eJdG3Gfziia"
      },
      "execution_count": null,
      "outputs": []
    },
    {
      "cell_type": "markdown",
      "source": [
        "### Assessing Data"
      ],
      "metadata": {
        "id": "emxQrF-iz_xv"
      }
    },
    {
      "cell_type": "code",
      "source": [
        "# TIPE DATA & SUMMARY STATISTIC\n",
        "\n",
        "print(customers_df.printSchema())\n",
        "customers_df.summary().show()"
      ],
      "metadata": {
        "colab": {
          "base_uri": "https://localhost:8080/"
        },
        "id": "jjg2NCRUz89d",
        "outputId": "62cbc7f3-5dfc-4666-f0f3-ca78200c3395"
      },
      "execution_count": null,
      "outputs": [
        {
          "output_type": "stream",
          "name": "stdout",
          "text": [
            "root\n",
            " |-- customer_id: string (nullable = true)\n",
            " |-- customer_name: string (nullable = true)\n",
            " |-- gender: string (nullable = true)\n",
            " |-- age: string (nullable = true)\n",
            " |-- home_address: string (nullable = true)\n",
            " |-- zip_code: string (nullable = true)\n",
            " |-- city: string (nullable = true)\n",
            " |-- state: string (nullable = true)\n",
            " |-- country: string (nullable = true)\n",
            "\n",
            "None\n",
            "+-------+------------------+-------------+-----------------+------------------+--------------------+-----------------+---------+--------------------+---------+\n",
            "|summary|       customer_id|customer_name|           gender|               age|        home_address|         zip_code|     city|               state|  country|\n",
            "+-------+------------------+-------------+-----------------+------------------+--------------------+-----------------+---------+--------------------+---------+\n",
            "|  count|              1007|         1007|              989|              1007|                1007|             1007|     1007|                1007|     1007|\n",
            "|   mean| 501.7269116186693|         NULL|             NULL| 50.92949354518371|                NULL|5012.538232373387|     NULL|                NULL|     NULL|\n",
            "| stddev|288.67323822944866|         NULL|             NULL|30.516299364117287|                NULL|2885.836111752482|     NULL|                NULL|     NULL|\n",
            "|    min|                 1|      fulan 1|           Female|                20|00 Fadel CircuitA...|             1007|Aaronbury|Australian Capita...|Australia|\n",
            "|    25%|             252.0|         NULL|             NULL|              34.0|                NULL|           2403.0|     NULL|                NULL|     NULL|\n",
            "|    50%|             502.0|         NULL|             NULL|              50.0|                NULL|           5087.0|     NULL|                NULL|     NULL|\n",
            "|    75%|             752.0|         NULL|             NULL|              65.0|                NULL|           7499.0|     NULL|                NULL|     NULL|\n",
            "|    max|               999|    fulan 999|Prefer not to say|                80|9993 Wood RidgeAp...|             9998| Zacville|   Western Australia|Australia|\n",
            "+-------+------------------+-------------+-----------------+------------------+--------------------+-----------------+---------+--------------------+---------+\n",
            "\n"
          ]
        }
      ]
    },
    {
      "cell_type": "markdown",
      "source": [
        "**MISSING VALUE**"
      ],
      "metadata": {
        "id": "C4TqhNyO0YFE"
      }
    },
    {
      "cell_type": "code",
      "source": [
        "from pyspark.sql.functions import isnull, isnan\n",
        "\n",
        "customers_df.where(isnull('gender') | isnan('gender')).show()\n",
        "\n",
        "print(\"jumlah missing value : \", customers_df.where(isnull('gender')|isnan('gender')).count())"
      ],
      "metadata": {
        "colab": {
          "base_uri": "https://localhost:8080/"
        },
        "id": "YbB3rCWn0Z6Y",
        "outputId": "06649569-17c9-4975-aa69-51fbfed6163d"
      },
      "execution_count": null,
      "outputs": [
        {
          "output_type": "stream",
          "name": "stdout",
          "text": [
            "+-----------+-------------+------+---+--------------------+--------+--------------------+--------------------+---------+\n",
            "|customer_id|customer_name|gender|age|        home_address|zip_code|                city|               state|  country|\n",
            "+-----------+-------------+------+---+--------------------+--------+--------------------+--------------------+---------+\n",
            "|         39|     fulan 39|  NULL| 80|7440 Cameron Esta...|    4622|North Victoriache...|  Northern Territory|Australia|\n",
            "|        168|    fulan 168|  NULL| 27|2781 Berge MallSu...|    1975|      North Leoburgh|   Western Australia|Australia|\n",
            "|        322|    fulan 322|  NULL| 30|593 Becker Circle...|    1640|          Jacobiview|   Western Australia|Australia|\n",
            "|        393|    fulan 393|  NULL| 34|5158 Levi HillSui...|    1474|          Johnsburgh|          Queensland|Australia|\n",
            "|        442|    fulan 442|  NULL| 26|5157 Feil RoadApt...|    7249|          Port Chloe|     New South Wales|Australia|\n",
            "|        720|    fulan 720|  NULL| 40|31 Jordan ParadeA...|    1380|          West Henry|     South Australia|Australia|\n",
            "|        743|    fulan 743|  NULL| 57|09 Christopher St...|    6226|      Lake Lukemouth|   Western Australia|Australia|\n",
            "|        771|    fulan 771|  NULL| 74|7367 Wright Junct...|    8882|            Kuhntown|            Victoria|Australia|\n",
            "|        795|    fulan 795|  NULL| 49|487 Summer MewsAp...|    1712|         East Hayden|Australian Capita...|Australia|\n",
            "|        798|    fulan 798|  NULL| 56|27 Aiden KnollApt...|    6531|            Port Sam|Australian Capita...|Australia|\n",
            "|        822|    fulan 822|  NULL| 59|41 Jenkins KnollS...|    2588|     Lake Andrewport|     South Australia|Australia|\n",
            "|        855|    fulan 855|  NULL| 55|603 O'keefe Knoll...|    8822|     Port Dylanmouth|            Tasmania|Australia|\n",
            "|        859|    fulan 859|  NULL| 38|32 Isla GroveApt....|    7711|         Rosechester|     New South Wales|Australia|\n",
            "|        909|    fulan 909|  NULL| 62|976 Murray Statio...|    3227|            Langfort|            Tasmania|Australia|\n",
            "|        929|    fulan 929|  NULL| 68|394 Lily HillSuit...|    2353|          Beahanfurt|  Northern Territory|Australia|\n",
            "|        943|    fulan 943|  NULL| 64|3117 Heller Place...|     822|        North Elijah|     South Australia|Australia|\n",
            "|        946|    fulan 946|  NULL| 24|8227 Nicholas Hil...|     115|        South Jasper|          Queensland|Australia|\n",
            "|        988|    fulan 988|  NULL| 35|1130 Turner Estat...|    9386|           New Harry|   Western Australia|Australia|\n",
            "+-----------+-------------+------+---+--------------------+--------+--------------------+--------------------+---------+\n",
            "\n",
            "jumlah missing value :  18\n"
          ]
        }
      ]
    },
    {
      "cell_type": "markdown",
      "source": [
        "**PERIKSA DATA DUPLIKAT**"
      ],
      "metadata": {
        "id": "iSj7CjQO06Kg"
      }
    },
    {
      "cell_type": "code",
      "source": [
        "print(\"jumlah duplikasi : \", (customers_df.count() - customers_df.distinct().count()))"
      ],
      "metadata": {
        "colab": {
          "base_uri": "https://localhost:8080/"
        },
        "id": "rCLwWd5A002N",
        "outputId": "93e6d723-8004-4027-c24b-5108e3bc0753"
      },
      "execution_count": null,
      "outputs": [
        {
          "output_type": "stream",
          "name": "stdout",
          "text": [
            "jumlah duplikasi :  6\n"
          ]
        }
      ]
    },
    {
      "cell_type": "markdown",
      "source": [
        "### Data Cleansing"
      ],
      "metadata": {
        "id": "zAEOYjRd2OZ9"
      }
    },
    {
      "cell_type": "code",
      "source": [
        "# UBAH TIPE DATA W/ CAST()\n",
        "\n",
        "from pyspark.sql.functions import col\n",
        "\n",
        "new_customers_df = customers_df.withColumn(\"customer_id\", col(\"customer_id\").cast(\"string\"))\n",
        "new_customers_df = new_customers_df.withColumn(\"zip_code\", col(\"zip_code\").cast(\"string\"))\n",
        "\n",
        "new_customers_df.printSchema()"
      ],
      "metadata": {
        "colab": {
          "base_uri": "https://localhost:8080/"
        },
        "id": "mtze7bkj2JX_",
        "outputId": "aa830a0c-f12d-432e-d6c7-ad112e87fe54"
      },
      "execution_count": null,
      "outputs": [
        {
          "output_type": "stream",
          "name": "stdout",
          "text": [
            "root\n",
            " |-- customer_id: string (nullable = true)\n",
            " |-- customer_name: string (nullable = true)\n",
            " |-- gender: string (nullable = true)\n",
            " |-- age: string (nullable = true)\n",
            " |-- home_address: string (nullable = true)\n",
            " |-- zip_code: string (nullable = true)\n",
            " |-- city: string (nullable = true)\n",
            " |-- state: string (nullable = true)\n",
            " |-- country: string (nullable = true)\n",
            "\n"
          ]
        }
      ]
    },
    {
      "cell_type": "markdown",
      "source": [
        "Pada contoh kode di atas, kita mengubah tipe data pada kolom \"customer_id\" dan \"zip_code\" menjadi “string”. Hal ini dilakukan untuk mencegah adanya operasi matematis terhadap kedua kolom tersebut."
      ],
      "metadata": {
        "id": "Z3844bY53G32"
      }
    },
    {
      "cell_type": "markdown",
      "source": [
        "#### Dropping"
      ],
      "metadata": {
        "id": "y0MHoL0Q3f8m"
      }
    },
    {
      "cell_type": "markdown",
      "source": [
        "Menghapus seluruh kolom/baris yang memiliki missing value"
      ],
      "metadata": {
        "id": "adjffvT83kZh"
      }
    },
    {
      "cell_type": "code",
      "source": [
        "new_customers_df.na.drop()\n",
        "\n",
        "# new_customers_df.na.drop(how=\"any\") # Menghapus seluruh baris data yang mengandung missing value (walaupun hanya 1)\n",
        "# customers_df.na.drop(how=\"all\") # Menghapus seluruh baris data jika seluruh baris tersebut bernilai null atau nan\n",
        "# new_customers_df.na.drop(thresh=2) # Menghapus seluruh baris data jika baris tersebut mengandung minimal 2 missing value\n"
      ],
      "metadata": {
        "colab": {
          "base_uri": "https://localhost:8080/"
        },
        "id": "AfOI2F6w3HPm",
        "outputId": "dfe684c0-cd8d-46c3-c023-7e90867b9c91"
      },
      "execution_count": null,
      "outputs": [
        {
          "output_type": "execute_result",
          "data": {
            "text/plain": [
              "DataFrame[customer_id: string, customer_name: string, gender: string, age: string, home_address: string, zip_code: string, city: string, state: string, country: string]"
            ]
          },
          "metadata": {},
          "execution_count": 7
        }
      ]
    },
    {
      "cell_type": "code",
      "source": [
        "# SIMPAN DATA YG TDK MISSING VALUE\n",
        "\n",
        "new_customers_df = new_customers_df.na.drop()\n",
        "\n",
        "print(\"jumlah missing value : \", new_customers_df.where(isnull('gender') | isnan('gender')).count())"
      ],
      "metadata": {
        "colab": {
          "base_uri": "https://localhost:8080/"
        },
        "id": "cIq1xMX933XW",
        "outputId": "5ec22d0e-8e40-4887-b7fc-d08019b81ef5"
      },
      "execution_count": null,
      "outputs": [
        {
          "output_type": "stream",
          "name": "stdout",
          "text": [
            "jumlah missing value :  0\n"
          ]
        }
      ]
    },
    {
      "cell_type": "markdown",
      "source": [
        "### Imputation"
      ],
      "metadata": {
        "id": "lmXJvFES4PY4"
      }
    },
    {
      "cell_type": "markdown",
      "source": [
        "Metode ini bekerja dengan cara mengisi (fill) missing value dengan nilai tertentu. Hal ini tentunya akan mencegah hilangnya informasi akibat missing value."
      ],
      "metadata": {
        "id": "oD9AHP5P4Q_R"
      }
    },
    {
      "cell_type": "code",
      "source": [
        "customers_df.na.fill(\"prefer not to say\", subset = [\"gender\"])"
      ],
      "metadata": {
        "colab": {
          "base_uri": "https://localhost:8080/"
        },
        "id": "p-gdz1zD4ObX",
        "outputId": "efb8ea11-b4b4-4727-e758-afd9aeae072c"
      },
      "execution_count": null,
      "outputs": [
        {
          "output_type": "execute_result",
          "data": {
            "text/plain": [
              "DataFrame[customer_id: string, customer_name: string, gender: string, age: string, home_address: string, zip_code: string, city: string, state: string, country: string]"
            ]
          },
          "metadata": {},
          "execution_count": 10
        }
      ]
    },
    {
      "cell_type": "markdown",
      "source": [
        "### Interpolation"
      ],
      "metadata": {
        "id": "SdvK1INR4iSz"
      }
    },
    {
      "cell_type": "markdown",
      "source": [
        "Interpolasi merupakan salah satu pendekatan numerik yang digunakan untuk menghitung titik data baru berdasarkan range data yang sudah ada."
      ],
      "metadata": {
        "id": "XR3vueIX4scb"
      }
    },
    {
      "cell_type": "markdown",
      "source": [
        "Perhitungan tersebut membuat metode ini sangat cocok digunakan untuk menangani missing value pada data time series."
      ],
      "metadata": {
        "id": "jTojiYfF4jRY"
      }
    },
    {
      "cell_type": "code",
      "source": [
        "from pyspark import pandas as ps\n",
        "customers_df_pandas = ps.read_csv(\"customers.csv\")\n",
        "customers_df_pandas[\"age\"].interpolate(method='linear')"
      ],
      "metadata": {
        "id": "0Lu2y37o4d2p"
      },
      "execution_count": null,
      "outputs": []
    },
    {
      "cell_type": "markdown",
      "source": [
        "**Atasi invalid value**"
      ],
      "metadata": {
        "id": "oqJjGN3t5Fjg"
      }
    },
    {
      "cell_type": "code",
      "source": [
        "new_customers_df.where(new_customers_df.age > 100).show()"
      ],
      "metadata": {
        "colab": {
          "base_uri": "https://localhost:8080/"
        },
        "id": "BAqAm69O5AlF",
        "outputId": "99b5fa5e-7a00-4ae3-dd7d-619f09f13312"
      },
      "execution_count": null,
      "outputs": [
        {
          "output_type": "stream",
          "name": "stdout",
          "text": [
            "+-----------+-------------+-----------------+---+--------------------+--------+----------+------------------+---------+\n",
            "|customer_id|customer_name|           gender|age|        home_address|zip_code|      city|             state|  country|\n",
            "+-----------+-------------+-----------------+---+--------------------+--------+----------+------------------+---------+\n",
            "|        216|    fulan 216|Prefer not to say|500|038 Haley MewsApt...|    3991| Bayertown|Northern Territory|Australia|\n",
            "|        961|    fulan 961|Prefer not to say|700|29 Farrell Parade...|    6528|New Joseph|   South Australia|Australia|\n",
            "+-----------+-------------+-----------------+---+--------------------+--------+----------+------------------+---------+\n",
            "\n"
          ]
        }
      ]
    },
    {
      "cell_type": "code",
      "source": [
        "from pyspark.sql.functions import when\n",
        "\n",
        "new_customers_df = new_customers_df.withColumn(\n",
        "    \"age\", when(new_customers_df.age == 700, 70) \\\n",
        "    .when(new_customers_df.age == 500, 50) \\\n",
        "    .otherwise(new_customers_df.age))\n",
        "\n",
        "new_customers_df.summary().show()"
      ],
      "metadata": {
        "colab": {
          "base_uri": "https://localhost:8080/"
        },
        "id": "YiptPp-w5Dxx",
        "outputId": "def1cfbc-da5d-443b-f9f4-506c5afe8b8a"
      },
      "execution_count": null,
      "outputs": [
        {
          "output_type": "stream",
          "name": "stdout",
          "text": [
            "+-------+------------------+-------------+-----------------+------------------+--------------------+-----------------+---------+--------------------+---------+\n",
            "|summary|       customer_id|customer_name|           gender|               age|        home_address|         zip_code|     city|               state|  country|\n",
            "+-------+------------------+-------------+-----------------+------------------+--------------------+-----------------+---------+--------------------+---------+\n",
            "|  count|               989|          989|              989|               989|                 989|              989|      989|                 989|      989|\n",
            "|   mean|498.27805864509605|         NULL|             NULL|49.876643073811934|                NULL|5026.199191102123|     NULL|                NULL|     NULL|\n",
            "| stddev|287.67376465771207|         NULL|             NULL|17.651855611617894|                NULL|2880.569897954812|     NULL|                NULL|     NULL|\n",
            "|    min|                 1|      fulan 1|           Female|                20|00 Fadel CircuitA...|             1007|Aaronbury|Australian Capita...|Australia|\n",
            "|    25%|             250.0|         NULL|             NULL|              34.0|                NULL|           2430.0|     NULL|                NULL|     NULL|\n",
            "|    50%|             498.0|         NULL|             NULL|              50.0|                NULL|           5120.0|     NULL|                NULL|     NULL|\n",
            "|    75%|             745.0|         NULL|             NULL|              65.0|                NULL|           7499.0|     NULL|                NULL|     NULL|\n",
            "|    max|               999|    fulan 999|Prefer not to say|                80|9993 Wood RidgeAp...|             9998| Zacville|   Western Australia|Australia|\n",
            "+-------+------------------+-------------+-----------------+------------------+--------------------+-----------------+---------+--------------------+---------+\n",
            "\n"
          ]
        }
      ]
    },
    {
      "cell_type": "code",
      "source": [
        "new_customers_df = new_customers_df.dropDuplicates()\n",
        "print(\"Jumlah duplikasi: \", (new_customers_df.count() - new_customers_df.distinct().count()))"
      ],
      "metadata": {
        "colab": {
          "base_uri": "https://localhost:8080/"
        },
        "id": "G4rqk0xD5MsP",
        "outputId": "8aae667a-7a1a-4c64-cd43-0c1670413a9d"
      },
      "execution_count": null,
      "outputs": [
        {
          "output_type": "stream",
          "name": "stdout",
          "text": [
            "Jumlah duplikasi:  0\n"
          ]
        }
      ]
    }
  ]
}