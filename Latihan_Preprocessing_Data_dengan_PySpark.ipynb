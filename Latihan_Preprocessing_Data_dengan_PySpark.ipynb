{
  "nbformat": 4,
  "nbformat_minor": 0,
  "metadata": {
    "colab": {
      "provenance": []
    },
    "kernelspec": {
      "name": "python3",
      "display_name": "Python 3"
    },
    "language_info": {
      "name": "python"
    }
  },
  "cells": [
    {
      "cell_type": "markdown",
      "source": [
        "**Preprocessing Data dengan PySpark**"
      ],
      "metadata": {
        "id": "0xxeGjgoAiST"
      }
    },
    {
      "cell_type": "markdown",
      "source": [
        "Adapun teknik data preprocessing yang akan kita bahas pada materi kali ini seperti berikut.\n",
        "\n",
        "- Scaling\n",
        "- Label Encoding\n",
        "- One-Hot Encoding\n",
        "- PCA"
      ],
      "metadata": {
        "id": "loekjQJWAk-W"
      }
    },
    {
      "cell_type": "code",
      "source": [
        "from pyspark.sql import SparkSession\n",
        "\n",
        "spark = SparkSession.builder.appName('learn_data_cleansing').getOrCreate()\n",
        "\n",
        "\n",
        "customers_df = spark.read.format('csv')\\\n",
        ".option(\"infraSchema\", \"true\")\\\n",
        ".option(\"header\",\"true\")\\\n",
        ".load(\"customers.csv\")\n",
        "\n",
        "customers_df.createOrReplaceTempView(\"customers_table\")"
      ],
      "metadata": {
        "id": "WxHVPhiq8pdZ"
      },
      "execution_count": 3,
      "outputs": []
    },
    {
      "cell_type": "code",
      "source": [
        "# TIPE DATA & SUMMARY STATISTIC\n",
        "\n",
        "print(customers_df.printSchema())\n",
        "customers_df.summary().show()"
      ],
      "metadata": {
        "colab": {
          "base_uri": "https://localhost:8080/"
        },
        "id": "10bU6ktw9YXI",
        "outputId": "0906465f-efc4-43f4-990e-cfbc7096c006"
      },
      "execution_count": 4,
      "outputs": [
        {
          "output_type": "stream",
          "name": "stdout",
          "text": [
            "root\n",
            " |-- customer_id: string (nullable = true)\n",
            " |-- customer_name: string (nullable = true)\n",
            " |-- gender: string (nullable = true)\n",
            " |-- age: string (nullable = true)\n",
            " |-- home_address: string (nullable = true)\n",
            " |-- zip_code: string (nullable = true)\n",
            " |-- city: string (nullable = true)\n",
            " |-- state: string (nullable = true)\n",
            " |-- country: string (nullable = true)\n",
            "\n",
            "None\n",
            "+-------+------------------+-------------+-----------------+------------------+--------------------+-----------------+---------+--------------------+---------+\n",
            "|summary|       customer_id|customer_name|           gender|               age|        home_address|         zip_code|     city|               state|  country|\n",
            "+-------+------------------+-------------+-----------------+------------------+--------------------+-----------------+---------+--------------------+---------+\n",
            "|  count|              1007|         1007|              989|              1007|                1007|             1007|     1007|                1007|     1007|\n",
            "|   mean| 501.7269116186693|         NULL|             NULL| 50.92949354518371|                NULL|5012.538232373387|     NULL|                NULL|     NULL|\n",
            "| stddev|288.67323822944866|         NULL|             NULL|30.516299364117287|                NULL|2885.836111752482|     NULL|                NULL|     NULL|\n",
            "|    min|                 1|      fulan 1|           Female|                20|00 Fadel CircuitA...|             1007|Aaronbury|Australian Capita...|Australia|\n",
            "|    25%|             252.0|         NULL|             NULL|              34.0|                NULL|           2403.0|     NULL|                NULL|     NULL|\n",
            "|    50%|             502.0|         NULL|             NULL|              50.0|                NULL|           5087.0|     NULL|                NULL|     NULL|\n",
            "|    75%|             752.0|         NULL|             NULL|              65.0|                NULL|           7499.0|     NULL|                NULL|     NULL|\n",
            "|    max|               999|    fulan 999|Prefer not to say|                80|9993 Wood RidgeAp...|             9998| Zacville|   Western Australia|Australia|\n",
            "+-------+------------------+-------------+-----------------+------------------+--------------------+-----------------+---------+--------------------+---------+\n",
            "\n"
          ]
        }
      ]
    },
    {
      "cell_type": "code",
      "source": [
        "from pyspark.sql.functions import isnull, isnan\n",
        "\n",
        "customers_df.where(isnull('gender') | isnan('gender')).show()\n",
        "\n",
        "print(\"jumlah missing value : \", customers_df.where(isnull('gender')|isnan('gender')).count())"
      ],
      "metadata": {
        "colab": {
          "base_uri": "https://localhost:8080/"
        },
        "id": "fkvn41Vk9b4_",
        "outputId": "8315833e-eb1d-4c03-a83b-26049e4f794c"
      },
      "execution_count": 5,
      "outputs": [
        {
          "output_type": "stream",
          "name": "stdout",
          "text": [
            "+-----------+-------------+------+---+--------------------+--------+--------------------+--------------------+---------+\n",
            "|customer_id|customer_name|gender|age|        home_address|zip_code|                city|               state|  country|\n",
            "+-----------+-------------+------+---+--------------------+--------+--------------------+--------------------+---------+\n",
            "|         39|     fulan 39|  NULL| 80|7440 Cameron Esta...|    4622|North Victoriache...|  Northern Territory|Australia|\n",
            "|        168|    fulan 168|  NULL| 27|2781 Berge MallSu...|    1975|      North Leoburgh|   Western Australia|Australia|\n",
            "|        322|    fulan 322|  NULL| 30|593 Becker Circle...|    1640|          Jacobiview|   Western Australia|Australia|\n",
            "|        393|    fulan 393|  NULL| 34|5158 Levi HillSui...|    1474|          Johnsburgh|          Queensland|Australia|\n",
            "|        442|    fulan 442|  NULL| 26|5157 Feil RoadApt...|    7249|          Port Chloe|     New South Wales|Australia|\n",
            "|        720|    fulan 720|  NULL| 40|31 Jordan ParadeA...|    1380|          West Henry|     South Australia|Australia|\n",
            "|        743|    fulan 743|  NULL| 57|09 Christopher St...|    6226|      Lake Lukemouth|   Western Australia|Australia|\n",
            "|        771|    fulan 771|  NULL| 74|7367 Wright Junct...|    8882|            Kuhntown|            Victoria|Australia|\n",
            "|        795|    fulan 795|  NULL| 49|487 Summer MewsAp...|    1712|         East Hayden|Australian Capita...|Australia|\n",
            "|        798|    fulan 798|  NULL| 56|27 Aiden KnollApt...|    6531|            Port Sam|Australian Capita...|Australia|\n",
            "|        822|    fulan 822|  NULL| 59|41 Jenkins KnollS...|    2588|     Lake Andrewport|     South Australia|Australia|\n",
            "|        855|    fulan 855|  NULL| 55|603 O'keefe Knoll...|    8822|     Port Dylanmouth|            Tasmania|Australia|\n",
            "|        859|    fulan 859|  NULL| 38|32 Isla GroveApt....|    7711|         Rosechester|     New South Wales|Australia|\n",
            "|        909|    fulan 909|  NULL| 62|976 Murray Statio...|    3227|            Langfort|            Tasmania|Australia|\n",
            "|        929|    fulan 929|  NULL| 68|394 Lily HillSuit...|    2353|          Beahanfurt|  Northern Territory|Australia|\n",
            "|        943|    fulan 943|  NULL| 64|3117 Heller Place...|     822|        North Elijah|     South Australia|Australia|\n",
            "|        946|    fulan 946|  NULL| 24|8227 Nicholas Hil...|     115|        South Jasper|          Queensland|Australia|\n",
            "|        988|    fulan 988|  NULL| 35|1130 Turner Estat...|    9386|           New Harry|   Western Australia|Australia|\n",
            "+-----------+-------------+------+---+--------------------+--------+--------------------+--------------------+---------+\n",
            "\n",
            "jumlah missing value :  18\n"
          ]
        }
      ]
    },
    {
      "cell_type": "code",
      "source": [
        "print(\"jumlah duplikasi : \", (customers_df.count() - customers_df.distinct().count()))"
      ],
      "metadata": {
        "colab": {
          "base_uri": "https://localhost:8080/"
        },
        "id": "VxYOIrGw9eUc",
        "outputId": "6f3fd3cb-83d9-4735-f48a-692cfc968ae6"
      },
      "execution_count": 6,
      "outputs": [
        {
          "output_type": "stream",
          "name": "stdout",
          "text": [
            "jumlah duplikasi :  6\n"
          ]
        }
      ]
    },
    {
      "cell_type": "code",
      "source": [
        "\n",
        "# UBAH TIPE DATA W/ CAST()\n",
        "\n",
        "from pyspark.sql.functions import col\n",
        "\n",
        "new_customers_df = customers_df.withColumn(\"customer_id\", col(\"customer_id\").cast(\"string\"))\n",
        "new_customers_df = new_customers_df.withColumn(\"zip_code\", col(\"zip_code\").cast(\"string\"))\n",
        "\n",
        "new_customers_df.printSchema()"
      ],
      "metadata": {
        "colab": {
          "base_uri": "https://localhost:8080/"
        },
        "id": "BFB7zwoV9emj",
        "outputId": "5634142a-83fc-4e66-b9bc-82d9a0f62137"
      },
      "execution_count": 7,
      "outputs": [
        {
          "output_type": "stream",
          "name": "stdout",
          "text": [
            "root\n",
            " |-- customer_id: string (nullable = true)\n",
            " |-- customer_name: string (nullable = true)\n",
            " |-- gender: string (nullable = true)\n",
            " |-- age: string (nullable = true)\n",
            " |-- home_address: string (nullable = true)\n",
            " |-- zip_code: string (nullable = true)\n",
            " |-- city: string (nullable = true)\n",
            " |-- state: string (nullable = true)\n",
            " |-- country: string (nullable = true)\n",
            "\n"
          ]
        }
      ]
    },
    {
      "cell_type": "code",
      "source": [
        "new_customers_df.na.drop()"
      ],
      "metadata": {
        "colab": {
          "base_uri": "https://localhost:8080/"
        },
        "id": "FfaoQqeH9j1n",
        "outputId": "fd3e4350-f211-4211-a9e3-fa36daaf108d"
      },
      "execution_count": 8,
      "outputs": [
        {
          "output_type": "execute_result",
          "data": {
            "text/plain": [
              "DataFrame[customer_id: string, customer_name: string, gender: string, age: string, home_address: string, zip_code: string, city: string, state: string, country: string]"
            ]
          },
          "metadata": {},
          "execution_count": 8
        }
      ]
    },
    {
      "cell_type": "code",
      "source": [
        "# SIMPAN DATA YG TDK MISSING VALUE\n",
        "\n",
        "new_customers_df = new_customers_df.na.drop()\n",
        "\n",
        "print(\"jumlah missing value : \", new_customers_df.where(isnull('gender') | isnan('gender')).count())"
      ],
      "metadata": {
        "colab": {
          "base_uri": "https://localhost:8080/"
        },
        "id": "mMH_u0VQ9l11",
        "outputId": "65025672-a0dc-4ce1-f33d-0c7b91e7f1c7"
      },
      "execution_count": 9,
      "outputs": [
        {
          "output_type": "stream",
          "name": "stdout",
          "text": [
            "jumlah missing value :  0\n"
          ]
        }
      ]
    },
    {
      "cell_type": "code",
      "source": [
        "\n",
        "customers_df.na.fill(\"prefer not to say\", subset = [\"gender\"])"
      ],
      "metadata": {
        "colab": {
          "base_uri": "https://localhost:8080/"
        },
        "id": "W4NCJ90e9mtr",
        "outputId": "7c8e7a5f-2618-4d6e-924d-85c57f18eb73"
      },
      "execution_count": 10,
      "outputs": [
        {
          "output_type": "execute_result",
          "data": {
            "text/plain": [
              "DataFrame[customer_id: string, customer_name: string, gender: string, age: string, home_address: string, zip_code: string, city: string, state: string, country: string]"
            ]
          },
          "metadata": {},
          "execution_count": 10
        }
      ]
    },
    {
      "cell_type": "code",
      "source": [
        "from pyspark import pandas as ps\n",
        "customers_df_pandas = ps.read_csv(\"customers.csv\")\n",
        "customers_df_pandas[\"age\"].interpolate(method='linear')\n",
        "\n",
        "\n",
        "new_customers_df.where(new_customers_df.age > 100).show()"
      ],
      "metadata": {
        "id": "GGIEwc7s9mX1"
      },
      "execution_count": null,
      "outputs": []
    },
    {
      "cell_type": "code",
      "source": [
        "from pyspark.sql.functions import when\n",
        "\n",
        "new_customers_df = new_customers_df.withColumn(\n",
        "    \"age\", when(new_customers_df.age == 700, 70) \\\n",
        "    .when(new_customers_df.age == 500, 50) \\\n",
        "    .otherwise(new_customers_df.age))\n",
        "\n",
        "new_customers_df.summary().show()"
      ],
      "metadata": {
        "colab": {
          "base_uri": "https://localhost:8080/"
        },
        "id": "fn-t_Wbz9riw",
        "outputId": "819aa906-6998-4990-e7cd-62b027f0d875"
      },
      "execution_count": 12,
      "outputs": [
        {
          "output_type": "stream",
          "name": "stdout",
          "text": [
            "+-------+------------------+-------------+-----------------+------------------+--------------------+-----------------+---------+--------------------+---------+\n",
            "|summary|       customer_id|customer_name|           gender|               age|        home_address|         zip_code|     city|               state|  country|\n",
            "+-------+------------------+-------------+-----------------+------------------+--------------------+-----------------+---------+--------------------+---------+\n",
            "|  count|               989|          989|              989|               989|                 989|              989|      989|                 989|      989|\n",
            "|   mean|498.27805864509605|         NULL|             NULL|49.876643073811934|                NULL|5026.199191102123|     NULL|                NULL|     NULL|\n",
            "| stddev|287.67376465771207|         NULL|             NULL|17.651855611617894|                NULL|2880.569897954812|     NULL|                NULL|     NULL|\n",
            "|    min|                 1|      fulan 1|           Female|                20|00 Fadel CircuitA...|             1007|Aaronbury|Australian Capita...|Australia|\n",
            "|    25%|             250.0|         NULL|             NULL|              34.0|                NULL|           2430.0|     NULL|                NULL|     NULL|\n",
            "|    50%|             498.0|         NULL|             NULL|              50.0|                NULL|           5120.0|     NULL|                NULL|     NULL|\n",
            "|    75%|             745.0|         NULL|             NULL|              65.0|                NULL|           7499.0|     NULL|                NULL|     NULL|\n",
            "|    max|               999|    fulan 999|Prefer not to say|                80|9993 Wood RidgeAp...|             9998| Zacville|   Western Australia|Australia|\n",
            "+-------+------------------+-------------+-----------------+------------------+--------------------+-----------------+---------+--------------------+---------+\n",
            "\n"
          ]
        }
      ]
    },
    {
      "cell_type": "code",
      "source": [
        "\n",
        "new_customers_df = new_customers_df.dropDuplicates()\n",
        "print(\"Jumlah duplikasi: \", (new_customers_df.count() - new_customers_df.distinct().count()))"
      ],
      "metadata": {
        "colab": {
          "base_uri": "https://localhost:8080/"
        },
        "id": "UMU49O6S9xZF",
        "outputId": "9418e3ff-3938-48a4-a2e4-a4dbe420303f"
      },
      "execution_count": 13,
      "outputs": [
        {
          "output_type": "stream",
          "name": "stdout",
          "text": [
            "Jumlah duplikasi:  0\n"
          ]
        }
      ]
    },
    {
      "cell_type": "markdown",
      "source": [
        "## Scaling"
      ],
      "metadata": {
        "id": "MLe9tKhiOnOD"
      }
    },
    {
      "cell_type": "markdown",
      "source": [
        "#### Standar Scaling"
      ],
      "metadata": {
        "id": "_AYe-ko8Opnl"
      }
    },
    {
      "cell_type": "markdown",
      "source": [
        "Mengubah skala pada data numerik sehingga memiliki nilai rata-rata 0 dan standar deviasi 1"
      ],
      "metadata": {
        "id": "VW774IGiOtg_"
      }
    },
    {
      "cell_type": "code",
      "execution_count": 16,
      "metadata": {
        "colab": {
          "base_uri": "https://localhost:8080/"
        },
        "id": "BEO2Nri_6iQ0",
        "outputId": "996c6ac7-d12f-4bed-ada3-5be33d88fc76"
      },
      "outputs": [
        {
          "output_type": "stream",
          "name": "stdout",
          "text": [
            "+-----------+-------------+-----------------+---+--------------------+--------+----------------+--------------------+---------+-------+--------------------+\n",
            "|customer_id|customer_name|           gender|age|        home_address|zip_code|            city|               state|  country|vec_age|  StandardScaler_age|\n",
            "+-----------+-------------+-----------------+---+--------------------+--------+----------------+--------------------+---------+-------+--------------------+\n",
            "|        353|    fulan 353|             Male| 22|1800 George RoadS...|    9711|      Stantonton|          Queensland|Australia| [22.0]|[1.2460803649043537]|\n",
            "|        666|    fulan 666|Prefer not to say| 72|20 Caitlin Parade...|    3159| West Nathanstad|  Northern Territory|Australia| [72.0]|  [4.07808119423243]|\n",
            "|        712|    fulan 712|Prefer not to say| 71|749 Klein SummitS...|    5372|    Lefflermouth|Australian Capita...|Australia| [71.0]| [4.021441177645869]|\n",
            "|        457|    fulan 457|             Male| 27|85 Mitchell Stree...|    1849|Charlotteborough|            Victoria|Australia| [27.0]|[1.5292804478371613]|\n",
            "|        600|    fulan 600|             Male| 50|41 Aiden WayApt. 249|    2075| East Archieside|Australian Capita...|Australia| [50.0]|[2.8320008293280763]|\n",
            "+-----------+-------------+-----------------+---+--------------------+--------+----------------+--------------------+---------+-------+--------------------+\n",
            "only showing top 5 rows\n",
            "\n"
          ]
        }
      ],
      "source": [
        "from pyspark.ml.feature import StandardScaler\n",
        "from pyspark.ml.feature import VectorAssembler\n",
        "from pyspark.sql.functions import col\n",
        "from pyspark.sql.types import IntegerType # Import IntegerType\n",
        "\n",
        "# Ubah nilai pd kolom age menjadi vector\n",
        "\n",
        "# Cast the age column to IntegerType\n",
        "new_customers_df = new_customers_df.withColumn(\"age\", col(\"age\").cast(IntegerType()))\n",
        "\n",
        "assembler = VectorAssembler().setInputCols(['age']).setOutputCol('vec_age')\n",
        "preprocess_customers_df = assembler.transform(new_customers_df)\n",
        "\n",
        "standard_scaler = StandardScaler().setInputCol(\"vec_age\").setOutputCol('StandardScaler_age')\n",
        "preprocess_customers_df = standard_scaler.fit(preprocess_customers_df).transform(preprocess_customers_df)\n",
        "preprocess_customers_df.show(5)"
      ]
    },
    {
      "cell_type": "markdown",
      "source": [
        "#### Min-max Scaling"
      ],
      "metadata": {
        "id": "t4zi_1gw-Nni"
      }
    },
    {
      "cell_type": "markdown",
      "source": [
        "Mengubah skala pada data numerik sehingga memiliki rentang dari 0 hingga 1"
      ],
      "metadata": {
        "id": "k6TwDjJJ-PYF"
      }
    },
    {
      "cell_type": "code",
      "source": [
        "from pyspark.ml.feature import MinMaxScaler\n",
        "\n",
        "min_max_scaler = MinMaxScaler().setInputCol(\"vec_age\").setOutputCol('MinMaxScaler_age')\n",
        "preprocess_customers_df = min_max_scaler.fit(preprocess_customers_df).transform(preprocess_customers_df)\n",
        "\n",
        "preprocess_customers_df.show(10)\n"
      ],
      "metadata": {
        "colab": {
          "base_uri": "https://localhost:8080/"
        },
        "id": "QY0Vqntd9-Gd",
        "outputId": "3e43353a-67b7-42f2-bf0a-6164afa8332a"
      },
      "execution_count": 17,
      "outputs": [
        {
          "output_type": "stream",
          "name": "stdout",
          "text": [
            "+-----------+-------------+-----------------+---+--------------------+--------+-------------------+--------------------+---------+-------+--------------------+--------------------+\n",
            "|customer_id|customer_name|           gender|age|        home_address|zip_code|               city|               state|  country|vec_age|  StandardScaler_age|    MinMaxScaler_age|\n",
            "+-----------+-------------+-----------------+---+--------------------+--------+-------------------+--------------------+---------+-------+--------------------+--------------------+\n",
            "|        353|    fulan 353|             Male| 22|1800 George RoadS...|    9711|         Stantonton|          Queensland|Australia| [22.0]|[1.2460803649043537]|[0.03333333333333...|\n",
            "|        666|    fulan 666|Prefer not to say| 72|20 Caitlin Parade...|    3159|    West Nathanstad|  Northern Territory|Australia| [72.0]|  [4.07808119423243]|[0.8666666666666667]|\n",
            "|        712|    fulan 712|Prefer not to say| 71|749 Klein SummitS...|    5372|       Lefflermouth|Australian Capita...|Australia| [71.0]| [4.021441177645869]|              [0.85]|\n",
            "|        457|    fulan 457|             Male| 27|85 Mitchell Stree...|    1849|   Charlotteborough|            Victoria|Australia| [27.0]|[1.5292804478371613]|[0.11666666666666...|\n",
            "|        600|    fulan 600|             Male| 50|41 Aiden WayApt. 249|    2075|    East Archieside|Australian Capita...|Australia| [50.0]|[2.8320008293280763]|               [0.5]|\n",
            "|        800|    fulan 800|Prefer not to say| 49|3570 Sarah Avenue...|    4505|      Daughertyport|          Queensland|Australia| [49.0]| [2.775360812741515]|[0.48333333333333...|\n",
            "|        838|    fulan 838|Prefer not to say| 44|7347 Windler Mall...|    5552|South Stephaniebury|     New South Wales|Australia| [44.0]|[2.4921607298087074]|               [0.4]|\n",
            "|        888|    fulan 888|Prefer not to say| 22|184 Joshua CrestA...|     968|          Ellieland|  Northern Territory|Australia| [22.0]|[1.2460803649043537]|[0.03333333333333...|\n",
            "|        947|    fulan 947|Prefer not to say| 74|23 Smith StreetSu...|    9260|      South Charles|     New South Wales|Australia| [74.0]| [4.191361227405554]|               [0.9]|\n",
            "|        307|    fulan 307|           Female| 50|227 Donnelly Terr...|    4618|     Lake Jackmouth|            Victoria|Australia| [50.0]|[2.8320008293280763]|               [0.5]|\n",
            "+-----------+-------------+-----------------+---+--------------------+--------+-------------------+--------------------+---------+-------+--------------------+--------------------+\n",
            "only showing top 10 rows\n",
            "\n"
          ]
        }
      ]
    },
    {
      "cell_type": "markdown",
      "source": [
        "## Label Encoding"
      ],
      "metadata": {
        "id": "qgIX1zY3-4zd"
      }
    },
    {
      "cell_type": "markdown",
      "source": [
        "Proses membuat sebuah indeks dalam bentuk bilangan bulat yang mewakili kategori tertentu dalam sebuah feature kategorik."
      ],
      "metadata": {
        "id": "ZtBKI8GT-8rY"
      }
    },
    {
      "cell_type": "code",
      "source": [
        "from pyspark.ml.feature import StringIndexer\n",
        "label_encoder = StringIndexer().setInputCol(\"gender\").setOutputCol(\"label_gender\")\n",
        "preprocess_customers_df = label_encoder.fit(preprocess_customers_df).transform(preprocess_customers_df)\n",
        "\n",
        "preprocess_customers_df.show(10)\n"
      ],
      "metadata": {
        "colab": {
          "base_uri": "https://localhost:8080/"
        },
        "id": "Ijg86C-5-5zN",
        "outputId": "bcd13ef2-01a5-4bfa-9e81-5a109f19a530"
      },
      "execution_count": 18,
      "outputs": [
        {
          "output_type": "stream",
          "name": "stdout",
          "text": [
            "+-----------+-------------+-----------------+---+--------------------+--------+-------------------+--------------------+---------+-------+--------------------+--------------------+------------+\n",
            "|customer_id|customer_name|           gender|age|        home_address|zip_code|               city|               state|  country|vec_age|  StandardScaler_age|    MinMaxScaler_age|label_gender|\n",
            "+-----------+-------------+-----------------+---+--------------------+--------+-------------------+--------------------+---------+-------+--------------------+--------------------+------------+\n",
            "|        353|    fulan 353|             Male| 22|1800 George RoadS...|    9711|         Stantonton|          Queensland|Australia| [22.0]|[1.2460803649043537]|[0.03333333333333...|         1.0|\n",
            "|        666|    fulan 666|Prefer not to say| 72|20 Caitlin Parade...|    3159|    West Nathanstad|  Northern Territory|Australia| [72.0]|  [4.07808119423243]|[0.8666666666666667]|         0.0|\n",
            "|        712|    fulan 712|Prefer not to say| 71|749 Klein SummitS...|    5372|       Lefflermouth|Australian Capita...|Australia| [71.0]| [4.021441177645869]|              [0.85]|         0.0|\n",
            "|        457|    fulan 457|             Male| 27|85 Mitchell Stree...|    1849|   Charlotteborough|            Victoria|Australia| [27.0]|[1.5292804478371613]|[0.11666666666666...|         1.0|\n",
            "|        600|    fulan 600|             Male| 50|41 Aiden WayApt. 249|    2075|    East Archieside|Australian Capita...|Australia| [50.0]|[2.8320008293280763]|               [0.5]|         1.0|\n",
            "|        800|    fulan 800|Prefer not to say| 49|3570 Sarah Avenue...|    4505|      Daughertyport|          Queensland|Australia| [49.0]| [2.775360812741515]|[0.48333333333333...|         0.0|\n",
            "|        838|    fulan 838|Prefer not to say| 44|7347 Windler Mall...|    5552|South Stephaniebury|     New South Wales|Australia| [44.0]|[2.4921607298087074]|               [0.4]|         0.0|\n",
            "|        888|    fulan 888|Prefer not to say| 22|184 Joshua CrestA...|     968|          Ellieland|  Northern Territory|Australia| [22.0]|[1.2460803649043537]|[0.03333333333333...|         0.0|\n",
            "|        947|    fulan 947|Prefer not to say| 74|23 Smith StreetSu...|    9260|      South Charles|     New South Wales|Australia| [74.0]| [4.191361227405554]|               [0.9]|         0.0|\n",
            "|        307|    fulan 307|           Female| 50|227 Donnelly Terr...|    4618|     Lake Jackmouth|            Victoria|Australia| [50.0]|[2.8320008293280763]|               [0.5]|         2.0|\n",
            "+-----------+-------------+-----------------+---+--------------------+--------+-------------------+--------------------+---------+-------+--------------------+--------------------+------------+\n",
            "only showing top 10 rows\n",
            "\n"
          ]
        }
      ]
    },
    {
      "cell_type": "code",
      "source": [
        "# JIKA INGIN MENGEMBALIKAN DATA\n",
        "\n",
        "from pyspark.ml.feature import IndexToString\n",
        "labelReverse = IndexToString().setInputCol(\"label_gender\").setOutputCol(\"reverse_label\")\n",
        "labelReverse.transform(preprocess_customers_df).show(5)"
      ],
      "metadata": {
        "colab": {
          "base_uri": "https://localhost:8080/"
        },
        "id": "JogMdQMS_r86",
        "outputId": "3d56579e-81f0-4511-f60e-cec831b608e6"
      },
      "execution_count": 19,
      "outputs": [
        {
          "output_type": "stream",
          "name": "stdout",
          "text": [
            "+-----------+-------------+-----------------+---+--------------------+--------+----------------+--------------------+---------+-------+--------------------+--------------------+------------+-----------------+\n",
            "|customer_id|customer_name|           gender|age|        home_address|zip_code|            city|               state|  country|vec_age|  StandardScaler_age|    MinMaxScaler_age|label_gender|    reverse_label|\n",
            "+-----------+-------------+-----------------+---+--------------------+--------+----------------+--------------------+---------+-------+--------------------+--------------------+------------+-----------------+\n",
            "|        353|    fulan 353|             Male| 22|1800 George RoadS...|    9711|      Stantonton|          Queensland|Australia| [22.0]|[1.2460803649043537]|[0.03333333333333...|         1.0|             Male|\n",
            "|        666|    fulan 666|Prefer not to say| 72|20 Caitlin Parade...|    3159| West Nathanstad|  Northern Territory|Australia| [72.0]|  [4.07808119423243]|[0.8666666666666667]|         0.0|Prefer not to say|\n",
            "|        712|    fulan 712|Prefer not to say| 71|749 Klein SummitS...|    5372|    Lefflermouth|Australian Capita...|Australia| [71.0]| [4.021441177645869]|              [0.85]|         0.0|Prefer not to say|\n",
            "|        457|    fulan 457|             Male| 27|85 Mitchell Stree...|    1849|Charlotteborough|            Victoria|Australia| [27.0]|[1.5292804478371613]|[0.11666666666666...|         1.0|             Male|\n",
            "|        600|    fulan 600|             Male| 50|41 Aiden WayApt. 249|    2075| East Archieside|Australian Capita...|Australia| [50.0]|[2.8320008293280763]|               [0.5]|         1.0|             Male|\n",
            "+-----------+-------------+-----------------+---+--------------------+--------+----------------+--------------------+---------+-------+--------------------+--------------------+------------+-----------------+\n",
            "only showing top 5 rows\n",
            "\n"
          ]
        }
      ]
    },
    {
      "cell_type": "markdown",
      "source": [
        "## One-Hot Encoding"
      ],
      "metadata": {
        "id": "sNxx3iRd_y__"
      }
    },
    {
      "cell_type": "markdown",
      "source": [
        "Pada metode ini, kita akan merepresentasikan setiap kategori kedalam nilai boolean yaitu 1 dan 0."
      ],
      "metadata": {
        "id": "vlBGCGo9_2_-"
      }
    },
    {
      "cell_type": "code",
      "source": [
        "from pyspark.ml.feature import OneHotEncoder\n",
        "\n",
        "one_hot_encoder = OneHotEncoder().setInputCol(\"label_gender\").setOutputCol(\"one_hot_gender\")\n",
        "one_hot_encoder.fit(preprocess_customers_df).transform(preprocess_customers_df).show(5)\n",
        "\n"
      ],
      "metadata": {
        "colab": {
          "base_uri": "https://localhost:8080/"
        },
        "id": "B_qsoPTn_tL2",
        "outputId": "72319286-4002-4590-f7c5-b8e42a30fdf6"
      },
      "execution_count": 20,
      "outputs": [
        {
          "output_type": "stream",
          "name": "stdout",
          "text": [
            "+-----------+-------------+-----------------+---+--------------------+--------+----------------+--------------------+---------+-------+--------------------+--------------------+------------+--------------+\n",
            "|customer_id|customer_name|           gender|age|        home_address|zip_code|            city|               state|  country|vec_age|  StandardScaler_age|    MinMaxScaler_age|label_gender|one_hot_gender|\n",
            "+-----------+-------------+-----------------+---+--------------------+--------+----------------+--------------------+---------+-------+--------------------+--------------------+------------+--------------+\n",
            "|        353|    fulan 353|             Male| 22|1800 George RoadS...|    9711|      Stantonton|          Queensland|Australia| [22.0]|[1.2460803649043537]|[0.03333333333333...|         1.0| (2,[1],[1.0])|\n",
            "|        666|    fulan 666|Prefer not to say| 72|20 Caitlin Parade...|    3159| West Nathanstad|  Northern Territory|Australia| [72.0]|  [4.07808119423243]|[0.8666666666666667]|         0.0| (2,[0],[1.0])|\n",
            "|        712|    fulan 712|Prefer not to say| 71|749 Klein SummitS...|    5372|    Lefflermouth|Australian Capita...|Australia| [71.0]| [4.021441177645869]|              [0.85]|         0.0| (2,[0],[1.0])|\n",
            "|        457|    fulan 457|             Male| 27|85 Mitchell Stree...|    1849|Charlotteborough|            Victoria|Australia| [27.0]|[1.5292804478371613]|[0.11666666666666...|         1.0| (2,[1],[1.0])|\n",
            "|        600|    fulan 600|             Male| 50|41 Aiden WayApt. 249|    2075| East Archieside|Australian Capita...|Australia| [50.0]|[2.8320008293280763]|               [0.5]|         1.0| (2,[1],[1.0])|\n",
            "+-----------+-------------+-----------------+---+--------------------+--------+----------------+--------------------+---------+-------+--------------------+--------------------+------------+--------------+\n",
            "only showing top 5 rows\n",
            "\n"
          ]
        }
      ]
    },
    {
      "cell_type": "markdown",
      "source": [
        "## PCA"
      ],
      "metadata": {
        "id": "0Rp9MHFLAVYK"
      }
    },
    {
      "cell_type": "markdown",
      "source": [
        "metode PCA untuk mengurangi jumlah feature atau kolom yang digunakan untuk melatih model serta menyelesaikan masalah multikolinearitas yang terdapat dalam sebuah data."
      ],
      "metadata": {
        "id": "k8qVnU-LAZLd"
      }
    },
    {
      "cell_type": "code",
      "source": [
        "from pyspark.ml.feature import PCA\n",
        "\n",
        "# BUAT FEATURE BUATAN\n",
        "assembler = VectorAssembler().setInputCols(['StandardScaler_age', 'MinMaxScaler_age']).setOutputCol('features')\n",
        "preprocess_customers_df = assembler.transform(preprocess_customers_df)\n",
        "\n",
        "\n",
        "pca = PCA().setInputCol(\"features\").setOutputCol(\"PCA_age\").setK(1)\n",
        "\n",
        "preprocess_customers_df  = pca.fit(preprocess_customers_df).transform(preprocess_customers_df)\n",
        "preprocess_customers_df.show(5, truncate=False)\n",
        "\n"
      ],
      "metadata": {
        "colab": {
          "base_uri": "https://localhost:8080/"
        },
        "id": "1WsaF2jkAY_8",
        "outputId": "0be89476-3ac5-4e52-de04-7f79914c2289"
      },
      "execution_count": 21,
      "outputs": [
        {
          "output_type": "stream",
          "name": "stdout",
          "text": [
            "+-----------+-------------+-----------------+---+---------------------------+--------+----------------+----------------------------+---------+-------+--------------------+---------------------+------------+----------------------------------------+---------------------+\n",
            "|customer_id|customer_name|gender           |age|home_address               |zip_code|city            |state                       |country  |vec_age|StandardScaler_age  |MinMaxScaler_age     |label_gender|features                                |PCA_age              |\n",
            "+-----------+-------------+-----------------+---+---------------------------+--------+----------------+----------------------------+---------+-------+--------------------+---------------------+------------+----------------------------------------+---------------------+\n",
            "|353        |fulan 353    |Male             |22 |1800 George RoadSuite 097  |9711    |Stantonton      |Queensland                  |Australia|[22.0] |[1.2460803649043537]|[0.03333333333333333]|1.0         |[1.2460803649043537,0.03333333333333333]|[-1.2048113400260567]|\n",
            "|666        |fulan 666    |Prefer not to say|72 |20 Caitlin ParadeSuite 493 |3159    |West Nathanstad |Northern Territory          |Australia|[72.0] |[4.07808119423243]  |[0.8666666666666667] |0.0         |[4.07808119423243,0.8666666666666667]   |[-4.156873863374667] |\n",
            "|712        |fulan 712    |Prefer not to say|71 |749 Klein SummitSuite 383  |5372    |Lefflermouth    |Australian Capital Territory|Australia|[71.0] |[4.021441177645869] |[0.85]               |0.0         |[4.021441177645869,0.85]                |[-4.097832612907695] |\n",
            "|457        |fulan 457    |Male             |27 |85 Mitchell StreetSuite 398|1849    |Charlotteborough|Victoria                    |Australia|[27.0] |[1.5292804478371613]|[0.11666666666666667]|1.0         |[1.5292804478371613,0.11666666666666667]|[-1.5000175923609178]|\n",
            "|600        |fulan 600    |Male             |50 |41 Aiden WayApt. 249       |2075    |East Archieside |Australian Capital Territory|Australia|[50.0] |[2.8320008293280763]|[0.5]                |1.0         |[2.8320008293280763,0.5]                |[-2.8579663531012782]|\n",
            "+-----------+-------------+-----------------+---+---------------------------+--------+----------------+----------------------------+---------+-------+--------------------+---------------------+------------+----------------------------------------+---------------------+\n",
            "only showing top 5 rows\n",
            "\n"
          ]
        }
      ]
    },
    {
      "cell_type": "code",
      "source": [],
      "metadata": {
        "id": "7Y-5CXAJATwd"
      },
      "execution_count": null,
      "outputs": []
    }
  ]
}